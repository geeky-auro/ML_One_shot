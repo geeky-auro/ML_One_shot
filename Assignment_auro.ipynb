{
  "nbformat": 4,
  "nbformat_minor": 0,
  "metadata": {
    "colab": {
      "provenance": [],
      "authorship_tag": "ABX9TyPqIWSzY4bYGNKYkuEUQeHc",
      "include_colab_link": true
    },
    "kernelspec": {
      "name": "python3",
      "display_name": "Python 3"
    },
    "language_info": {
      "name": "python"
    }
  },
  "cells": [
    {
      "cell_type": "markdown",
      "metadata": {
        "id": "view-in-github",
        "colab_type": "text"
      },
      "source": [
        "<a href=\"https://colab.research.google.com/github/geeky-auro/ML_One_shot/blob/main/Assignment_auro.ipynb\" target=\"_parent\"><img src=\"https://colab.research.google.com/assets/colab-badge.svg\" alt=\"Open In Colab\"/></a>"
      ]
    },
    {
      "cell_type": "code",
      "execution_count": 17,
      "metadata": {
        "id": "8UZ0LO-ywOel"
      },
      "outputs": [],
      "source": [
        "import numpy as np\n",
        "\n",
        "X = np.loadtxt(\"train_data.csv\", delimiter=\",\")\n",
        "Y = np.loadtxt(\"test_data.csv\", delimiter=\",\")"
      ]
    },
    {
      "cell_type": "code",
      "source": [
        "print(\"X shape:\", X.shape)\n",
        "# print(\"Y shape:\", Y.shape)\n"
      ],
      "metadata": {
        "colab": {
          "base_uri": "https://localhost:8080/"
        },
        "id": "sdsqq0VOybb-",
        "outputId": "0fc8bc6e-beb8-46fd-81ce-5c714ec740d4"
      },
      "execution_count": 18,
      "outputs": [
        {
          "output_type": "stream",
          "name": "stdout",
          "text": [
            "X shape: (331, 11)\n"
          ]
        }
      ]
    },
    {
      "cell_type": "code",
      "source": [
        "X_train, Y_train = X[:,:10], X[:,10]"
      ],
      "metadata": {
        "id": "9RlnjFmziAFW"
      },
      "execution_count": 19,
      "outputs": []
    },
    {
      "cell_type": "code",
      "source": [
        "X_test= Y"
      ],
      "metadata": {
        "id": "tGO3RxC7iJVZ"
      },
      "execution_count": 20,
      "outputs": []
    },
    {
      "cell_type": "code",
      "source": [
        "X_train.shape"
      ],
      "metadata": {
        "colab": {
          "base_uri": "https://localhost:8080/"
        },
        "id": "2neV5HkZiM2u",
        "outputId": "1b5474f9-dddb-4810-a5fa-40f7363c4ea9"
      },
      "execution_count": 21,
      "outputs": [
        {
          "output_type": "execute_result",
          "data": {
            "text/plain": [
              "(331, 10)"
            ]
          },
          "metadata": {},
          "execution_count": 21
        }
      ]
    },
    {
      "cell_type": "code",
      "source": [
        "from sklearn.linear_model import LinearRegression\n",
        "alg1 = LinearRegression()\n",
        "alg1.fit(X_train,Y_train)\n",
        "alg1.coef_\n",
        "alg1.intercept_"
      ],
      "metadata": {
        "colab": {
          "base_uri": "https://localhost:8080/"
        },
        "id": "e3hgU74-CNSV",
        "outputId": "2c7eff8b-39b4-4b2e-d742-0633f14bc69a"
      },
      "execution_count": 22,
      "outputs": [
        {
          "output_type": "execute_result",
          "data": {
            "text/plain": [
              "150.702574894566"
            ]
          },
          "metadata": {},
          "execution_count": 22
        }
      ]
    },
    {
      "cell_type": "code",
      "source": [
        "Y_test_pred = alg1.predict(X_test)\n",
        "Y_test_pred"
      ],
      "metadata": {
        "colab": {
          "base_uri": "https://localhost:8080/"
        },
        "id": "tAYA_KavjDEt",
        "outputId": "230fd275-ee22-4224-b6f0-11dec539fe0b"
      },
      "execution_count": 25,
      "outputs": [
        {
          "output_type": "execute_result",
          "data": {
            "text/plain": [
              "array([105.52974799, 105.8039198 , 178.60857225,  79.3828781 ,\n",
              "        52.95868706,  98.87263854, 150.71755448,  34.86515216,\n",
              "       113.13535727, 161.50184038, 135.8615611 ,  94.71592222,\n",
              "       138.48094422, 141.37441723, 158.76862662, 171.65288616,\n",
              "       106.44835654, 103.92659639,  95.38693889, 167.40118092,\n",
              "       166.53426278, 101.53464712, 252.45035972, 147.02258547,\n",
              "       214.78906632, 161.27557106, 210.61315228,  71.78091585,\n",
              "       189.65032431, 206.6134259 , 219.98643455, 168.80192534,\n",
              "       116.84846127, 178.74399639,  77.03247418,  59.54633214,\n",
              "       111.5673781 , 156.95186739, 154.59591259, 198.94457493,\n",
              "       115.53884017, 153.46699024,  84.96179518, 113.70337192,\n",
              "       142.14155617, 147.31040378,  82.78072358,  77.89237327,\n",
              "       128.99006192, 261.58712282, 213.31187775, 243.98791257,\n",
              "       167.68132094, 183.69712124, 166.85926884, 202.11440188,\n",
              "       220.39235543, 172.40288024, 176.60897931, 109.04656567,\n",
              "       276.37789836,  90.99941821, 289.37221147, 119.56253351,\n",
              "        75.45687948, 180.78598759, 146.62093081, 156.42382465,\n",
              "        41.079036  , 247.90645166, 207.99121432,  90.09641075,\n",
              "       222.24169638, 189.86378006, 182.2695376 , 164.39881376,\n",
              "       190.27066587, 105.4486795 , 199.86136394, 245.796388  ,\n",
              "       123.20281334, 119.41031908, 145.86620411, 206.19247291,\n",
              "       150.86282453, 142.23221646, 154.56874616, 115.29233396,\n",
              "       134.07810123, 118.42225404, 203.5767555 , 170.66483797,\n",
              "       127.409797  ,  57.13507634, 231.92226503, 185.20713654,\n",
              "       187.37494558,  83.55920849, 185.42585685, 217.34035639,\n",
              "       108.86715354,  80.98714568, 127.05524123, 242.00738792,\n",
              "       155.9723414 , 125.67575276, 246.41235643, 234.963933  ,\n",
              "       191.51298252, 168.33254477, 163.02965178])"
            ]
          },
          "metadata": {},
          "execution_count": 25
        }
      ]
    },
    {
      "cell_type": "code",
      "source": [
        "np.savetxt(\"predictions.csv\", Y_test_pred, fmt = '%.5e')"
      ],
      "metadata": {
        "id": "EfqqBMnRDnSI"
      },
      "execution_count": 27,
      "outputs": []
    },
    {
      "cell_type": "code",
      "source": [
        "alg1.score(X_train, Y_train)"
      ],
      "metadata": {
        "colab": {
          "base_uri": "https://localhost:8080/"
        },
        "id": "W1Sg3XIakDz0",
        "outputId": "495781b0-352b-41ab-bb12-543c63206de3"
      },
      "execution_count": 29,
      "outputs": [
        {
          "output_type": "execute_result",
          "data": {
            "text/plain": [
              "0.49572080558056053"
            ]
          },
          "metadata": {},
          "execution_count": 29
        }
      ]
    },
    {
      "cell_type": "code",
      "source": [
        "alg1.score(X_test, Y_test_pred)"
      ],
      "metadata": {
        "colab": {
          "base_uri": "https://localhost:8080/"
        },
        "id": "tCjW4ZXwkEX6",
        "outputId": "8305c2d9-3b16-4a41-a167-6e364367531d"
      },
      "execution_count": 31,
      "outputs": [
        {
          "output_type": "execute_result",
          "data": {
            "text/plain": [
              "1.0"
            ]
          },
          "metadata": {},
          "execution_count": 31
        }
      ]
    },
    {
      "cell_type": "code",
      "source": [],
      "metadata": {
        "id": "jTB5CI6kkIu_"
      },
      "execution_count": null,
      "outputs": []
    }
  ]
}