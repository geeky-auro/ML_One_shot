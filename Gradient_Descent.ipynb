{
  "nbformat": 4,
  "nbformat_minor": 0,
  "metadata": {
    "colab": {
      "provenance": [],
      "authorship_tag": "ABX9TyPODRwvHsA2wwNy/nwcA6Hy",
      "include_colab_link": true
    },
    "kernelspec": {
      "name": "python3",
      "display_name": "Python 3"
    },
    "language_info": {
      "name": "python"
    }
  },
  "cells": [
    {
      "cell_type": "markdown",
      "metadata": {
        "id": "view-in-github",
        "colab_type": "text"
      },
      "source": [
        "<a href=\"https://colab.research.google.com/github/geeky-auro/ML_One_shot/blob/main/Gradient_Descent.ipynb\" target=\"_parent\"><img src=\"https://colab.research.google.com/assets/colab-badge.svg\" alt=\"Open In Colab\"/></a>"
      ]
    },
    {
      "cell_type": "code",
      "execution_count": 34,
      "metadata": {
        "id": "rxiqX-dvhZK2"
      },
      "outputs": [],
      "source": [
        "import numpy as np\n"
      ]
    },
    {
      "cell_type": "code",
      "source": [
        "def step_gradient(points,learning_rate,m,c):\n",
        "  # m' = m- a dCost/dm\n",
        "  # c' = c- a dCost/dc\n",
        "\n",
        "  #dCost/dm= -2/N Summation(Yi-mXi-c)Xi\n",
        "  #dCost/dc= -2/N Summation(Yi-mXi-c)\n",
        "  m_slope=0\n",
        "  c_slope=0\n",
        "  N=len(points)\n",
        "  for i in range(N):\n",
        "    x=points[i,0]\n",
        "    y=points[i,1]\n",
        "    m_slope+=(-2/N)*(y-m*x-c)*x\n",
        "    c_slope+=(-2/N)*(y-m*x-c)\n",
        "\n",
        "  new_m=m-learning_rate*m_slope\n",
        "  new_c=c-learning_rate*c_slope\n",
        "\n",
        "  return new_m,new_c\n"
      ],
      "metadata": {
        "id": "rwWlxZrgoDHN"
      },
      "execution_count": 35,
      "outputs": []
    },
    {
      "cell_type": "code",
      "source": [
        "def gd(points, learning_rate, num_iterations):\n",
        "  m=0\n",
        "  c=0\n",
        "  for i in range(num_iterations):\n",
        "    m,c=step_gradient(points,learning_rate,m,c)\n",
        "    print(i,\"Cost: \",cost(points,m,c))\n",
        "  return m,c\n"
      ],
      "metadata": {
        "id": "Y0UkVybkk3NT"
      },
      "execution_count": 36,
      "outputs": []
    },
    {
      "cell_type": "code",
      "source": [
        "def cost(points,m,c):\n",
        "  total_cost=0\n",
        "  M=len(points)\n",
        "  for i in range(M):\n",
        "    x = points[i,0]\n",
        "    y = points[i,1]\n",
        "    total_cost+=(1/m)*((y-m*x - c)**2)\n",
        "  return total_cost"
      ],
      "metadata": {
        "id": "irDp8WK5rGp0"
      },
      "execution_count": 37,
      "outputs": []
    },
    {
      "cell_type": "code",
      "source": [
        "# m,c = gd(data,alpha,no_of_iterations)\n",
        "def run():\n",
        "  data=np.loadtxt(\"data.csv\",delimiter=\",\")\n",
        "  learning_rate = 0.001\n",
        "  num_iterations = 10\n",
        "  m,c = gd(data,learning_rate,num_iterations)\n",
        "  print(m,c)\n"
      ],
      "metadata": {
        "id": "hSH1Y8WWmNwE"
      },
      "execution_count": 38,
      "outputs": []
    },
    {
      "cell_type": "code",
      "source": [
        "run()"
      ],
      "metadata": {
        "colab": {
          "base_uri": "https://localhost:8080/"
        },
        "id": "EpaJsB7JqXrF",
        "outputId": "a188a4ef-360d-4cf9-fe19-31fa8d8a2f6f"
      },
      "execution_count": 39,
      "outputs": [
        {
          "output_type": "stream",
          "name": "stdout",
          "text": [
            "0 Cost:  1175583.8664842113\n",
            "1 Cost:  -6245278.854098047\n",
            "2 Cost:  22947886.7620114\n",
            "3 Cost:  -93236416.26578133\n",
            "4 Cost:  369596634.1860121\n",
            "5 Cost:  -1474252366.4153283\n",
            "6 Cost:  5871358025.147078\n",
            "7 Cost:  -23392428712.970764\n",
            "8 Cost:  93190017291.62186\n",
            "9 Cost:  -371256598860.81085\n",
            "-1489261.2296547107 -29270.969698560042\n"
          ]
        }
      ]
    },
    {
      "cell_type": "code",
      "source": [],
      "metadata": {
        "id": "VJhkkAW9qYnI"
      },
      "execution_count": 39,
      "outputs": []
    }
  ]
}